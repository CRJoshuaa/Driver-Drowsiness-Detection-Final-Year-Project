{
 "cells": [
  {
   "cell_type": "markdown",
   "metadata": {},
   "source": [
    "# Loading Data with Tensorflow"
   ]
  },
  {
   "cell_type": "code",
   "execution_count": 2,
   "metadata": {},
   "outputs": [],
   "source": [
    "import tensorflow as tf\n",
    "from tensorflow import keras\n",
    "\n",
    "from tensorflow.keras.datasets import cifar10\n",
    "from tensorflow.keras.preprocessing.image import ImageDataGenerator\n",
    "\n",
    "from tensorflow.keras.models import Sequential\n",
    "from tensorflow.keras.layers import Dense, Dropout, Activation,Flatten\n",
    "from tensorflow.keras.layers import Conv2D,MaxPooling2D\n",
    "from tensorflow.keras.callbacks import TensorBoard\n",
    "from keras.models import load_model\n",
    "\n",
    "import numpy as np\n",
    "import matplotlib.pyplot as plt\n",
    "import os \n",
    "import cv2\n",
    "import random\n",
    "import pickle"
   ]
  },
  {
   "cell_type": "code",
   "execution_count": 15,
   "metadata": {},
   "outputs": [],
   "source": [
    "DATADIR='C:/Users/msi/Desktop/Year 3 Sem 1/FYP 1/Data'\n",
    "CATEGORIES=['Open','Close']"
   ]
  },
  {
   "cell_type": "markdown",
   "metadata": {},
   "source": [
    "# Tabulating the data"
   ]
  },
  {
   "cell_type": "code",
   "execution_count": 16,
   "metadata": {},
   "outputs": [],
   "source": [
    "training_data=[]\n",
    "\n",
    "def create_training_data():\n",
    "    for category in CATEGORIES:\n",
    "        path=os.path.join(DATADIR,category) # path to open or close directory\n",
    "        class_num=CATEGORIES.index(category)\n",
    "\n",
    "        for image in os.listdir(path):\n",
    "            try:     \n",
    "                img_array=cv2.imread(os.path.join(path,image),cv2.IMREAD_GRAYSCALE)\n",
    "                IMG_SIZE=50\n",
    "                new_array=cv2.resize(img_array,(IMG_SIZE, IMG_SIZE))\n",
    "                training_data.append([new_array,class_num])\n",
    "            except Exception as e:\n",
    "                pass\n",
    "            \n",
    "            \n",
    "create_training_data()            \n"
   ]
  },
  {
   "cell_type": "code",
   "execution_count": 17,
   "metadata": {},
   "outputs": [
    {
     "name": "stdout",
     "output_type": "stream",
     "text": [
      "84806\n"
     ]
    }
   ],
   "source": [
    "print(len(training_data))"
   ]
  },
  {
   "cell_type": "markdown",
   "metadata": {},
   "source": [
    "# Shuffle Data"
   ]
  },
  {
   "cell_type": "code",
   "execution_count": 18,
   "metadata": {},
   "outputs": [],
   "source": [
    "random.shuffle(training_data)"
   ]
  },
  {
   "cell_type": "code",
   "execution_count": 19,
   "metadata": {},
   "outputs": [
    {
     "name": "stdout",
     "output_type": "stream",
     "text": [
      "0\n",
      "0\n",
      "1\n",
      "0\n",
      "1\n",
      "1\n",
      "1\n",
      "1\n",
      "1\n",
      "0\n"
     ]
    }
   ],
   "source": [
    "for sample in training_data[:10]:\n",
    "    print(sample[1])"
   ]
  },
  {
   "cell_type": "code",
   "execution_count": 20,
   "metadata": {},
   "outputs": [],
   "source": [
    "X=[]\n",
    "y=[]\n",
    "\n",
    "for features,label in training_data:\n",
    "    X.append(features)\n",
    "    y.append(label)\n",
    "\n",
    "IMG_SIZE=50\n",
    "X=np.array(X).reshape(-1,IMG_SIZE,IMG_SIZE,1)\n",
    "\n",
    "\n",
    "X=np.array(X)\n",
    "y=np.array(y)\n",
    "\n"
   ]
  },
  {
   "cell_type": "markdown",
   "metadata": {},
   "source": [
    "# Saving the Data"
   ]
  },
  {
   "cell_type": "code",
   "execution_count": 21,
   "metadata": {},
   "outputs": [],
   "source": [
    "import pickle\n",
    "\n",
    "pickle_out=open('eyeFeatures2.pickle','wb')\n",
    "pickle.dump(X,pickle_out)\n",
    "pickle_out.close()\n",
    "\n",
    "pickle_out=open('eyeLabels2.pickle','wb')\n",
    "pickle.dump(y,pickle_out)\n",
    "pickle_out.close()\n",
    "\n"
   ]
  },
  {
   "cell_type": "code",
   "execution_count": 22,
   "metadata": {},
   "outputs": [],
   "source": [
    "pickle_in = open('DGFeatures.pickle','rb')\n",
    "X=pickle.load(pickle_in)\n"
   ]
  },
  {
   "cell_type": "code",
   "execution_count": 12,
   "metadata": {},
   "outputs": [
    {
     "data": {
      "text/plain": [
       "array([[[ 23],\n",
       "        [ 23],\n",
       "        [ 26],\n",
       "        ...,\n",
       "        [110],\n",
       "        [115],\n",
       "        [114]],\n",
       "\n",
       "       [[ 28],\n",
       "        [ 29],\n",
       "        [ 30],\n",
       "        ...,\n",
       "        [116],\n",
       "        [116],\n",
       "        [119]],\n",
       "\n",
       "       [[ 27],\n",
       "        [ 27],\n",
       "        [ 32],\n",
       "        ...,\n",
       "        [117],\n",
       "        [117],\n",
       "        [120]],\n",
       "\n",
       "       ...,\n",
       "\n",
       "       [[143],\n",
       "        [142],\n",
       "        [148],\n",
       "        ...,\n",
       "        [ 45],\n",
       "        [ 44],\n",
       "        [ 44]],\n",
       "\n",
       "       [[141],\n",
       "        [151],\n",
       "        [149],\n",
       "        ...,\n",
       "        [ 29],\n",
       "        [ 29],\n",
       "        [ 32]],\n",
       "\n",
       "       [[148],\n",
       "        [147],\n",
       "        [148],\n",
       "        ...,\n",
       "        [ 38],\n",
       "        [ 37],\n",
       "        [ 36]]], dtype=uint8)"
      ]
     },
     "execution_count": 12,
     "metadata": {},
     "output_type": "execute_result"
    }
   ],
   "source": [
    "X[1]"
   ]
  },
  {
   "cell_type": "markdown",
   "metadata": {},
   "source": [
    "# Part 2"
   ]
  },
  {
   "cell_type": "code",
   "execution_count": 2,
   "metadata": {},
   "outputs": [],
   "source": [
    "X=pickle.load(open('eyeFeatures2.pickle','rb'))\n",
    "y=pickle.load(open('eyeLabels2.pickle','rb'))"
   ]
  },
  {
   "cell_type": "code",
   "execution_count": 5,
   "metadata": {},
   "outputs": [],
   "source": [
    "model = keras.models.load_model('eyeModel_98acc_7loss.h5')"
   ]
  },
  {
   "cell_type": "code",
   "execution_count": 3,
   "metadata": {},
   "outputs": [],
   "source": [
    "#normalise data\n",
    "X=X/255.0 "
   ]
  },
  {
   "cell_type": "code",
   "execution_count": 30,
   "metadata": {},
   "outputs": [
    {
     "data": {
      "text/plain": [
       "(84806, 50, 50, 1)"
      ]
     },
     "execution_count": 30,
     "metadata": {},
     "output_type": "execute_result"
    }
   ],
   "source": [
    "X.shape"
   ]
  },
  {
   "cell_type": "markdown",
   "metadata": {},
   "source": [
    "# Train Validate Split : 70 30"
   ]
  },
  {
   "cell_type": "code",
   "execution_count": null,
   "metadata": {},
   "outputs": [
    {
     "name": "stdout",
     "output_type": "stream",
     "text": [
      "Epoch 1/10\n",
      "2386/2386 [==============================] - 24s 10ms/step - loss: 0.1824 - accuracy: 0.9314 - val_loss: 0.1481 - val_accuracy: 0.9471\n",
      "Epoch 2/10\n",
      "2386/2386 [==============================] - 24s 10ms/step - loss: 0.1184 - accuracy: 0.9583 - val_loss: 0.1164 - val_accuracy: 0.9592\n",
      "Epoch 3/10\n",
      "2386/2386 [==============================] - 24s 10ms/step - loss: 0.0967 - accuracy: 0.9672 - val_loss: 0.1017 - val_accuracy: 0.9658\n",
      "Epoch 4/10\n",
      "2386/2386 [==============================] - 24s 10ms/step - loss: 0.0846 - accuracy: 0.9711 - val_loss: 0.0939 - val_accuracy: 0.9692\n",
      "Epoch 5/10\n",
      "2386/2386 [==============================] - 24s 10ms/step - loss: 0.0761 - accuracy: 0.9742 - val_loss: 0.0800 - val_accuracy: 0.9732\n",
      "Epoch 6/10\n",
      "2386/2386 [==============================] - 24s 10ms/step - loss: 0.0677 - accuracy: 0.9772 - val_loss: 0.0700 - val_accuracy: 0.9762\n",
      "Epoch 7/10\n",
      "2386/2386 [==============================] - 24s 10ms/step - loss: 0.0629 - accuracy: 0.9783 - val_loss: 0.0682 - val_accuracy: 0.9774\n",
      "Epoch 8/10\n",
      "2386/2386 [==============================] - 24s 10ms/step - loss: 0.0593 - accuracy: 0.9799 - val_loss: 0.0692 - val_accuracy: 0.9770\n",
      "Epoch 9/10\n",
      "2381/2386 [============================>.] - ETA: 0s - loss: 0.0561 - accuracy: 0.9803"
     ]
    }
   ],
   "source": [
    "model = Sequential()\n",
    "\n",
    "model.add(Conv2D(256, (3, 3), input_shape=(50,50,1)))\n",
    "model.add(Activation('relu'))\n",
    "model.add(MaxPooling2D(pool_size=(2, 2)))\n",
    "\n",
    "model.add(Conv2D(256, (3, 3)))\n",
    "model.add(Activation('relu'))\n",
    "model.add(MaxPooling2D(pool_size=(2, 2)))\n",
    "\n",
    "model.add(Flatten())  # this converts our 3D feature maps to 1D feature vectors\n",
    "model.add(Activation('relu'))\n",
    "model.add(Dense(64))\n",
    "\n",
    "model.add(Dense(1))\n",
    "model.add(Activation('sigmoid'))\n",
    "\n",
    "model.compile(loss='binary_crossentropy',\n",
    "              optimizer='adam',\n",
    "              metrics=['accuracy'])\n",
    "\n",
    "model.fit(X, y, batch_size=32, epochs=10, validation_split=0.1)"
   ]
  },
  {
   "cell_type": "markdown",
   "metadata": {},
   "source": [
    "### Model without normalized data"
   ]
  },
  {
   "cell_type": "code",
   "execution_count": null,
   "metadata": {},
   "outputs": [
    {
     "name": "stdout",
     "output_type": "stream",
     "text": [
      "Train on 76325 samples, validate on 8481 samples\n",
      "Epoch 1/10\n",
      "76325/76325 [==============================] - 28s 360us/sample - loss: 7.7056 - accuracy: 0.4947 - val_loss: 7.8808 - val_accuracy: 0.4832\n",
      "Epoch 2/10\n",
      "76325/76325 [==============================] - 24s 311us/sample - loss: 7.7056 - accuracy: 0.4947 - val_loss: 7.8808 - val_accuracy: 0.4832\n",
      "Epoch 3/10\n",
      "76325/76325 [==============================] - 24s 311us/sample - loss: 7.7056 - accuracy: 0.4947 - val_loss: 7.8808 - val_accuracy: 0.4832\n",
      "Epoch 4/10\n",
      "76325/76325 [==============================] - 24s 316us/sample - loss: 7.7056 - accuracy: 0.4947 - val_loss: 7.8808 - val_accuracy: 0.4832\n",
      "Epoch 5/10\n",
      "76325/76325 [==============================] - 24s 314us/sample - loss: 7.7056 - accuracy: 0.4947 - val_loss: 7.8808 - val_accuracy: 0.4832\n",
      "Epoch 6/10\n",
      "76325/76325 [==============================] - 24s 312us/sample - loss: 7.7056 - accuracy: 0.4947 - val_loss: 7.8808 - val_accuracy: 0.4832\n",
      "Epoch 7/10\n",
      "76325/76325 [==============================] - 24s 310us/sample - loss: 7.7056 - accuracy: 0.4947 - val_loss: 7.8808 - val_accuracy: 0.4832\n",
      "Epoch 8/10\n",
      "67968/76325 [=========================>....] - ETA: 2s - loss: 7.7092 - accuracy: 0.4945"
     ]
    }
   ],
   "source": [
    "model = Sequential([\n",
    "    #32 convolution filters used each of size 3x3\n",
    "    Conv2D(32, kernel_size=(3, 3), activation='relu', input_shape=(50,50,1)),\n",
    "    MaxPooling2D(pool_size=(1,1)),\n",
    "\n",
    "    #32 convolution filters used each of size 3x3\n",
    "    Conv2D(32,(3,3),activation='relu'),\n",
    "    MaxPooling2D(pool_size=(1,1)),\n",
    "\n",
    "    #64 convolution filters used each of size 3x3\n",
    "    Conv2D(64, (3, 3), activation='relu'),\n",
    "    MaxPooling2D(pool_size=(1,1)),\n",
    "\n",
    "    #dropout to reduce overfitting\n",
    "    Dropout(0.25),\n",
    "    #flatten the image\n",
    "    Flatten(),\n",
    "    #use fully connected layers from this point\n",
    "    Dense(128, activation='relu'),\n",
    "    #dropout again to reduce overfittinh\n",
    "    Dropout(0.5),\n",
    "    #output a softmax to squash the matrix into output probabilities\n",
    "    Dense(1, activation='softmax')\n",
    "])\n",
    "\n",
    "model.compile(loss='binary_crossentropy',\n",
    "              optimizer='adam',\n",
    "              metrics=['accuracy'])\n",
    "\n",
    "model.fit(X, y, batch_size=32, epochs=10, validation_split=0.1)"
   ]
  },
  {
   "cell_type": "code",
   "execution_count": 6,
   "metadata": {},
   "outputs": [],
   "source": [
    "model.save('eyeModel_98acc_7loss.h5', overwrite=True)"
   ]
  },
  {
   "cell_type": "markdown",
   "metadata": {},
   "source": [
    "## Split Data Training"
   ]
  },
  {
   "cell_type": "code",
   "execution_count": 38,
   "metadata": {},
   "outputs": [
    {
     "name": "stdout",
     "output_type": "stream",
     "text": [
      "Epoch 1/10\n",
      "219/219 [==============================] - 3s 12ms/step - loss: 0.3897 - accuracy: 0.8231 - val_loss: 0.2446 - val_accuracy: 0.9093\n",
      "Epoch 2/10\n",
      "219/219 [==============================] - 3s 11ms/step - loss: 0.2475 - accuracy: 0.9039 - val_loss: 0.1925 - val_accuracy: 0.9213\n",
      "Epoch 3/10\n",
      "219/219 [==============================] - 3s 12ms/step - loss: 0.2015 - accuracy: 0.9267 - val_loss: 0.1784 - val_accuracy: 0.9320\n",
      "Epoch 4/10\n",
      "219/219 [==============================] - 3s 12ms/step - loss: 0.1935 - accuracy: 0.9320 - val_loss: 0.1743 - val_accuracy: 0.9387\n",
      "Epoch 5/10\n",
      "219/219 [==============================] - 3s 11ms/step - loss: 0.1786 - accuracy: 0.9376 - val_loss: 0.1758 - val_accuracy: 0.9347\n",
      "Epoch 6/10\n",
      "219/219 [==============================] - 3s 12ms/step - loss: 0.1692 - accuracy: 0.9389 - val_loss: 0.1782 - val_accuracy: 0.9380\n",
      "Epoch 7/10\n",
      "219/219 [==============================] - 3s 12ms/step - loss: 0.1671 - accuracy: 0.9427 - val_loss: 0.1688 - val_accuracy: 0.9413\n",
      "Epoch 8/10\n",
      "219/219 [==============================] - 2s 11ms/step - loss: 0.1501 - accuracy: 0.9479 - val_loss: 0.1460 - val_accuracy: 0.9473\n",
      "Epoch 9/10\n",
      "219/219 [==============================] - 3s 12ms/step - loss: 0.1380 - accuracy: 0.9540 - val_loss: 0.1605 - val_accuracy: 0.9470\n",
      "Epoch 10/10\n",
      "219/219 [==============================] - 3s 12ms/step - loss: 0.1375 - accuracy: 0.9526 - val_loss: 0.1733 - val_accuracy: 0.9450\n"
     ]
    },
    {
     "data": {
      "text/plain": [
       "<tensorflow.python.keras.callbacks.History at 0x253ea1c86c8>"
      ]
     },
     "execution_count": 38,
     "metadata": {},
     "output_type": "execute_result"
    }
   ],
   "source": [
    "model = Sequential()\n",
    "\n",
    "model.add(Conv2D(256, (3, 3), input_shape=(50,50,1)))\n",
    "model.add(Activation('relu'))\n",
    "model.add(MaxPooling2D(pool_size=(2, 2)))\n",
    "\n",
    "model.add(Conv2D(256, (3, 3)))\n",
    "model.add(Activation('relu'))\n",
    "model.add(MaxPooling2D(pool_size=(2, 2)))\n",
    "\n",
    "model.add(Flatten())  # this converts our 3D feature maps to 1D feature vectors\n",
    "model.add(Activation('relu'))\n",
    "model.add(Dense(64))\n",
    "model.add(Dropout(0.25))\n",
    "\n",
    "model.add(Dense(1))\n",
    "model.add(Activation('sigmoid'))\n",
    "\n",
    "model.compile(loss='binary_crossentropy',\n",
    "              optimizer='adam',\n",
    "              metrics=['accuracy'])\n",
    "\n",
    "model.fit(X, y, batch_size=32, epochs=10, validation_split=0.3)"
   ]
  },
  {
   "cell_type": "code",
   "execution_count": 40,
   "metadata": {},
   "outputs": [
    {
     "ename": "AttributeError",
     "evalue": "'list' object has no attribute 'accuracy'",
     "output_type": "error",
     "traceback": [
      "\u001b[1;31m---------------------------------------------------------------------------\u001b[0m",
      "\u001b[1;31mAttributeError\u001b[0m                            Traceback (most recent call last)",
      "\u001b[1;32m<ipython-input-40-dcd2022fca50>\u001b[0m in \u001b[0;36m<module>\u001b[1;34m\u001b[0m\n\u001b[1;32m----> 1\u001b[1;33m \u001b[0mmodel\u001b[0m\u001b[1;33m.\u001b[0m\u001b[0mmetrics\u001b[0m\u001b[1;33m.\u001b[0m\u001b[0maccuracy\u001b[0m\u001b[1;33m(\u001b[0m\u001b[1;33m)\u001b[0m\u001b[1;33m\u001b[0m\u001b[1;33m\u001b[0m\u001b[0m\n\u001b[0m",
      "\u001b[1;31mAttributeError\u001b[0m: 'list' object has no attribute 'accuracy'"
     ]
    }
   ],
   "source": [
    "model.metrics.accuracy()"
   ]
  },
  {
   "cell_type": "markdown",
   "metadata": {},
   "source": [
    "# Load Model"
   ]
  },
  {
   "cell_type": "code",
   "execution_count": 2,
   "metadata": {},
   "outputs": [],
   "source": [
    "model = tf.keras.models.load_model('eyeModel_98acc_7loss.h5')"
   ]
  },
  {
   "cell_type": "code",
   "execution_count": 3,
   "metadata": {},
   "outputs": [
    {
     "name": "stdout",
     "output_type": "stream",
     "text": [
      "Model: \"sequential\"\n",
      "_________________________________________________________________\n",
      "Layer (type)                 Output Shape              Param #   \n",
      "=================================================================\n",
      "conv2d (Conv2D)              (None, 48, 48, 256)       2560      \n",
      "_________________________________________________________________\n",
      "activation (Activation)      (None, 48, 48, 256)       0         \n",
      "_________________________________________________________________\n",
      "max_pooling2d (MaxPooling2D) (None, 24, 24, 256)       0         \n",
      "_________________________________________________________________\n",
      "conv2d_1 (Conv2D)            (None, 22, 22, 256)       590080    \n",
      "_________________________________________________________________\n",
      "activation_1 (Activation)    (None, 22, 22, 256)       0         \n",
      "_________________________________________________________________\n",
      "max_pooling2d_1 (MaxPooling2 (None, 11, 11, 256)       0         \n",
      "_________________________________________________________________\n",
      "flatten (Flatten)            (None, 30976)             0         \n",
      "_________________________________________________________________\n",
      "activation_2 (Activation)    (None, 30976)             0         \n",
      "_________________________________________________________________\n",
      "dense (Dense)                (None, 64)                1982528   \n",
      "_________________________________________________________________\n",
      "dense_1 (Dense)              (None, 1)                 65        \n",
      "_________________________________________________________________\n",
      "activation_3 (Activation)    (None, 1)                 0         \n",
      "=================================================================\n",
      "Total params: 2,575,233\n",
      "Trainable params: 2,575,233\n",
      "Non-trainable params: 0\n",
      "_________________________________________________________________\n"
     ]
    }
   ],
   "source": [
    "model.summary()"
   ]
  },
  {
   "cell_type": "code",
   "execution_count": 12,
   "metadata": {},
   "outputs": [
    {
     "data": {
      "text/plain": [
       "array([[91, 93, 89, ..., 51, 50, 48],\n",
       "       [92, 92, 94, ..., 49, 51, 48],\n",
       "       [94, 96, 98, ..., 49, 48, 49],\n",
       "       ...,\n",
       "       [64, 63, 65, ..., 64, 62, 59],\n",
       "       [62, 63, 63, ..., 64, 62, 61],\n",
       "       [64, 63, 61, ..., 64, 63, 61]], dtype=uint8)"
      ]
     },
     "execution_count": 12,
     "metadata": {},
     "output_type": "execute_result"
    },
    {
     "data": {
      "image/png": "[encoded data removed]",
      "text/plain": [
       "<Figure size 432x288 with 1 Axes>"
      ]
     },
     "metadata": {
      "needs_background": "light"
     },
     "output_type": "display_data"
    }
   ],
   "source": [
    "img=cv2.imread('C:/Users/msi/Desktop/Year 3 Sem 1/FYP 1/Data/Open/s0001_01866_0_0_1_0_0_01.png')\n",
    "#img=cv2.imread('C:/Users/msi/Desktop/Year 3 Sem 1/FYP 1/Data/Close/s0001_00001_0_0_0_0_0_01.png')\n",
    "img = cv2.cvtColor(img, cv2.COLOR_BGR2GRAY)\n",
    "img = cv2.resize(img,(50,50))\n",
    "\n",
    "plt.imshow(img,cmap='gray')\n",
    "img\n",
    "\n",
    "\n",
    "# img=img.reshape(50,50,1)\n",
    "# img = np.expand_dims(img,axis=0)"
   ]
  },
  {
   "cell_type": "code",
   "execution_count": 13,
   "metadata": {},
   "outputs": [
    {
     "data": {
      "text/plain": [
       "array([[0.35686275, 0.36470588, 0.34901961, ..., 0.2       , 0.19607843,\n",
       "        0.18823529],\n",
       "       [0.36078431, 0.36078431, 0.36862745, ..., 0.19215686, 0.2       ,\n",
       "        0.18823529],\n",
       "       [0.36862745, 0.37647059, 0.38431373, ..., 0.19215686, 0.18823529,\n",
       "        0.19215686],\n",
       "       ...,\n",
       "       [0.25098039, 0.24705882, 0.25490196, ..., 0.25098039, 0.24313725,\n",
       "        0.23137255],\n",
       "       [0.24313725, 0.24705882, 0.24705882, ..., 0.25098039, 0.24313725,\n",
       "        0.23921569],\n",
       "       [0.25098039, 0.24705882, 0.23921569, ..., 0.25098039, 0.24705882,\n",
       "        0.23921569]])"
      ]
     },
     "execution_count": 13,
     "metadata": {},
     "output_type": "execute_result"
    },
    {
     "data": {
      "image/png": "[encoded data removed]",
      "text/plain": [
       "<Figure size 432x288 with 1 Axes>"
      ]
     },
     "metadata": {
      "needs_background": "light"
     },
     "output_type": "display_data"
    }
   ],
   "source": [
    "img2=img/255.0\n",
    "plt.imshow(img2,cmap='gray')\n",
    "img2"
   ]
  }
 ],
 "metadata": {
  "kernelspec": {
   "display_name": "Python 3",
   "language": "python",
   "name": "python3"
  },
  "language_info": {
   "codemirror_mode": {
    "name": "ipython",
    "version": 3
   },
   "file_extension": ".py",
   "mimetype": "text/x-python",
   "name": "python",
   "nbconvert_exporter": "python",
   "pygments_lexer": "ipython3",
   "version": "3.7.7"
  }
 },
 "nbformat": 4,
 "nbformat_minor": 4
}
